{
 "cells": [
  {
   "cell_type": "markdown",
   "id": "83741632",
   "metadata": {
    "editable": true,
    "slideshow": {
     "slide_type": "slide"
    },
    "tags": []
   },
   "source": [
    "# Docker\n",
    "\n",
    "![Docker](Images/Docker/DockerLogo.png)"
   ]
  },
  {
   "cell_type": "markdown",
   "id": "57a3c6fa-7848-4b58-8de1-75f119f7d2b2",
   "metadata": {
    "editable": true,
    "slideshow": {
     "slide_type": "subslide"
    },
    "tags": []
   },
   "source": [
    "## Docker's original 3 innovations\n",
    "\n",
    "- Docker was not the inventor of containers, but it made them easier to use with the three steps to creating and running them.\n",
    "\n",
    "1. Image: It aids you in packaging an application (with all its dependencies).\n",
    "2. Registries: It helps to distribute that app around to all the places you need to run it.\n",
    "3. Containers: It runs that app in a highly reproducible way. \n",
    "\n",
    "Docker calls this the `Build, Ship and Run` life cycle."
   ]
  },
  {
   "cell_type": "markdown",
   "id": "f091f675-818f-421b-9c7b-c6b6893ea328",
   "metadata": {
    "editable": true,
    "slideshow": {
     "slide_type": "subslide"
    },
    "tags": []
   },
   "source": [
    "These are the basics that all other container technology is built on.\n",
    "e.g.,\n",
    "- Kubernetes\n",
    "- Swarm\n",
    "- Helm\n",
    "\n",
    "![DockerImages](Images/Docker/DockerBasicsImage.png)"
   ]
  },
  {
   "cell_type": "markdown",
   "id": "8c80003e-5fe2-4bcc-ad9e-ace9386d9178",
   "metadata": {
    "editable": true,
    "slideshow": {
     "slide_type": "subslide"
    },
    "tags": []
   },
   "source": [
    "## Docker Images\n",
    "- The Docker Image: Universal app packaging\n",
    "- It’s called a \"Docker image\", the standards name \"OCI Image\", or just \"image\" for short.\n",
    "    - Docker uses a list of instructions, called a Docker file\n",
    "- It is similar to a shell script, and it layers those instructions on top of each other until it has everything you need to run the application, including all its system dependencies.\n",
    "- Including the dependencies is a key differentiator between Docker and many previous packaging systems.\n",
    "    - It helps prevent the (only) \"works on my machine\" problem of two different environments having slightly different sets of dependencies."
   ]
  },
  {
   "cell_type": "markdown",
   "id": "fbdd3ec6-97dd-4d40-9817-2085ef0caaa1",
   "metadata": {
    "editable": true,
    "slideshow": {
     "slide_type": "subslide"
    },
    "tags": []
   },
   "source": [
    "![DockerImage](Images/Docker/DockerImage.png)"
   ]
  },
  {
   "cell_type": "markdown",
   "id": "511f9a0d-23f3-4969-a0f3-cf0ed42a2d44",
   "metadata": {
    "editable": true,
    "slideshow": {
     "slide_type": "subslide"
    },
    "tags": []
   },
   "source": [
    "- If it was a Python app you wanted to build, then the image would contain the app itself, and all the Python dependencies the app needs.\n",
    "- The key distinction is it also includes the exact Python version and system libraries to correctly run Python. \n",
    "- Everything except the OS kernel and hardware drivers is included. \n",
    "- Even metadata on how to start the app, default environment variables, and what ports it listens on are included."
   ]
  },
  {
   "cell_type": "markdown",
   "id": "03a26602-8646-47b0-b1b5-46ae5455b46c",
   "metadata": {
    "editable": true,
    "slideshow": {
     "slide_type": "subslide"
    },
    "tags": []
   },
   "source": [
    "## Docker Registry\n",
    "- The Registry: Easy app distribution\n",
    "- Called a \"Docker registry\", or just \"registry\" for short.\n",
    "- This innovation was the key to connecting our building of images on one machine to running our containers on another.\n",
    "    - Now that we have built an imarun ran it on our local machine, how do we get it on all the other machines?\n",
    "    - How can I be sure that the rest of my team, my CI testing, and all my servers run the exact same image?\n"
   ]
  },
  {
   "cell_type": "markdown",
   "id": "f8301d25-d6bb-4fce-946e-5cf1502f1bc6",
   "metadata": {
    "editable": true,
    "slideshow": {
     "slide_type": "subslide"
    },
    "tags": []
   },
   "source": [
    "- The registry is an HTTP-based package manager that works like apt, yum, npm, and other package managers.\n",
    "\n",
    "- You can push an image to it, and then pull an image somewhere else.\n",
    "\n",
    "- The registry protocol is efficient. \n",
    "    - It only pushes and pulls the changed parts (layers), and stores the image in the machine’s local cache for the fast running of new containers."
   ]
  },
  {
   "cell_type": "markdown",
   "id": "e688f095-d248-4a60-8488-a867886a95a2",
   "metadata": {
    "editable": true,
    "slideshow": {
     "slide_type": "subslide"
    },
    "tags": []
   },
   "source": [
    "- The images and the registry as the universal package manager for modern computing\n",
    "    - we may want to build, download, and run any app on any system. \n",
    "    - e.g., building and running on \n",
    "        - Linux\n",
    "        - MacOS\n",
    "        - Windows\n",
    "        - in the cloud\n",
    "        - in your datacenter\n",
    "        - on a mainframe\n",
    "        - a tiny Raspberry Pi."
   ]
  },
  {
   "cell_type": "markdown",
   "id": "0870d6eb-f47d-493d-9ec3-c5ba9e8d16d2",
   "metadata": {
    "editable": true,
    "slideshow": {
     "slide_type": ""
    },
    "tags": []
   },
   "source": [
    "## Docker Container\n",
    "\n",
    "- The Docker Container: Easy app running\n",
    "- Called a \"Docker container\", the standards name \"OCI Container\", or just \"container\" for short. It's not called a \"docker\", or \"dockers\".\n",
    "- Docker will launch your container image into a new running container and use the command you specified in the Dockerfile to start it.\n",
    "  "
   ]
  },
  {
   "cell_type": "markdown",
   "id": "67b4e623-12b7-4101-a2f1-20937ecabf7f",
   "metadata": {
    "editable": true,
    "slideshow": {
     "slide_type": "subslide"
    },
    "tags": []
   },
   "source": [
    "- It uses two Linux Kernel features, to isolate your app so it can’t see the rest of the host by default.\n",
    "namespaces \n",
    "    - cgroups (control groups), "
   ]
  },
  {
   "cell_type": "markdown",
   "id": "36ff27c3-aba2-4cfc-ad2b-3f6a9caa66a9",
   "metadata": {
    "editable": true,
    "slideshow": {
     "slide_type": "subslide"
    },
    "tags": []
   },
   "source": [
    "- To the app, the only files it sees are the ones in the container image. \n",
    "\n",
    "- It sees no other processes outside the container and even gets its own virtual ethernet adapter and private IP.\n",
    "\n",
    "- It’s not virtualization. Its application isolation, similar to chroot, FreeBSD jails, or Solaris zones, which all came before Docker. \n",
    "\n",
    "- You can start many of these containers from the same container image, on the same system.\n",
    "  \n",
    "    - They’ll all be isolated from each other. File changes in one container don’t affect the files in another."
   ]
  },
  {
   "cell_type": "markdown",
   "id": "3dfcfe88-c0d7-4b0f-9858-8d852cafe556",
   "metadata": {
    "editable": true,
    "slideshow": {
     "slide_type": ""
    },
    "tags": []
   },
   "source": [
    "## Requirements of Docker\n",
    "\n",
    "- Docker needed to exist because the old ways were full of friction and complexity when met with the modern area of software development and the speed at which we needed to operate.\n",
    "\n",
    "        The Problem of Isolation\n",
    "        The Problem of Environments\n",
    "        The Problem of Speed"
   ]
  },
  {
   "cell_type": "markdown",
   "id": "fe367437-80ec-4279-9a6e-02fab390a279",
   "metadata": {
    "editable": true,
    "slideshow": {
     "slide_type": "subslide"
    },
    "tags": []
   },
   "source": [
    "### The Problem of Isolation\n",
    "\n",
    "Need of different software versions\n",
    "\n",
    "![Images/Docker/IsolationProblem_1.png](Images/Docker/IsolationProblem_1.png)"
   ]
  },
  {
   "cell_type": "markdown",
   "id": "d979b545-82c7-47be-b01a-9cb34a1b64b5",
   "metadata": {
    "editable": true,
    "slideshow": {
     "slide_type": ""
    },
    "tags": []
   },
   "source": [
    "![Images/Docker/IsolationProblem_1.png](Images/Docker/IsolationProblem_2.png)"
   ]
  },
  {
   "cell_type": "markdown",
   "id": "0aeafcac-629f-40cf-9eb2-02347004873d",
   "metadata": {
    "editable": true,
    "slideshow": {
     "slide_type": ""
    },
    "tags": []
   },
   "source": [
    "### Problem of Environment\n",
    "\n",
    "![Images/Docker/EnvProblem_1.png](Images/Docker/EnvProblem_1.png)\n",
    "\n",
    "![Images/Docker/EnvProblem_2.png](Images/Docker/EnvProblem_2.png)"
   ]
  },
  {
   "cell_type": "markdown",
   "id": "56e5bf3d-539b-4bb6-bee0-b4d1e7ff7c64",
   "metadata": {
    "editable": true,
    "slideshow": {
     "slide_type": ""
    },
    "tags": []
   },
   "source": [
    "### Problem of speed\n",
    "\n",
    "![Images/Docker/SpeedProblem.png](Images/Docker/SpeedProblem.png)"
   ]
  },
  {
   "cell_type": "markdown",
   "id": "93a4616a-b8f1-4c2c-b078-6b0ba60e8593",
   "metadata": {
    "editable": true,
    "slideshow": {
     "slide_type": ""
    },
    "tags": []
   },
   "source": [
    "- By combining the ideas of the image, registry, and container, Docker\n",
    "(and the tooling it inspired) improves the time-to-complete in nearly\n",
    "every part of the software lifecycle:\n",
    "    - Develop faster\n",
    "    - Build faster\n",
    "    - Test faster\n",
    "    - Deploy faster\n",
    "    - Update faster\n",
    "    - Recover faster"
   ]
  },
  {
   "cell_type": "markdown",
   "id": "a2159b65-cee8-44b9-8002-f83f57110309",
   "metadata": {
    "editable": true,
    "slideshow": {
     "slide_type": ""
    },
    "tags": []
   },
   "source": [
    "## DevOps\n",
    "\n",
    "- DevOps is a set of practices, guidelines and culture designed to reduce\n",
    "the gap between software development and software operations.\n",
    "- If Both teams work together, productivity will increase\n",
    "- DevOps established five goals.\n",
    "1. Reduce organizational silos\n",
    "2. Accept failure as normal\n",
    "3. Implement gradual changes\n",
    "4. Leverage tooling and automation\n",
    "5. Measure everything"
   ]
  },
  {
   "cell_type": "markdown",
   "id": "f8a1b48c-1a8b-4ddb-b656-71ff67568525",
   "metadata": {
    "editable": true,
    "slideshow": {
     "slide_type": ""
    },
    "tags": []
   },
   "source": [
    "Docker is software development platform\n",
    "- Here you packaged app in images\n",
    "- Container use image to start application\n",
    "- Containers run on any operating system\n",
    "- It works exactly same independent of OS, machine, Environment\n",
    "- Lightweight compared to VM\n",
    "- Easier to maintain & deploy\n",
    "- Docker works with any language, runtime, OS"
   ]
  },
  {
   "cell_type": "markdown",
   "id": "9e3f403f-7fd4-44d2-bc70-458e2ba92a25",
   "metadata": {
    "editable": true,
    "slideshow": {
     "slide_type": ""
    },
    "tags": []
   },
   "source": [
    "## Docker VS Virtual Machine\n",
    "![Images/Docker/Docker_Vs_VM.png](Images/Docker/Docker_Vs_VM.png)"
   ]
  },
  {
   "cell_type": "markdown",
   "id": "8b2ddcca-f47c-4f0b-8230-61bfe6d87a62",
   "metadata": {
    "editable": true,
    "slideshow": {
     "slide_type": ""
    },
    "tags": []
   },
   "source": [
    "## Docker Work Flow\n",
    "\n",
    "![Images/Docker/DockerWorkFlow.png](Images/Docker/DockerWorkFlow.png)"
   ]
  }
 ],
 "metadata": {
  "celltoolbar": "Slideshow",
  "kernelspec": {
   "display_name": "Python 3 (ipykernel)",
   "language": "python",
   "name": "python3"
  },
  "language_info": {
   "codemirror_mode": {
    "name": "ipython",
    "version": 3
   },
   "file_extension": ".py",
   "mimetype": "text/x-python",
   "name": "python",
   "nbconvert_exporter": "python",
   "pygments_lexer": "ipython3",
   "version": "3.8.10"
  }
 },
 "nbformat": 4,
 "nbformat_minor": 5
}
