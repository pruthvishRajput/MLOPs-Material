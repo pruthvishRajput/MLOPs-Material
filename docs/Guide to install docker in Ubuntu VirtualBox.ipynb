{
 "cells": [
  {
   "cell_type": "markdown",
   "id": "f55f8ee1-0694-47fc-ada2-9d537f2bd510",
   "metadata": {},
   "source": [
    "# Guide to install docker in Ubuntu VirtualBox\n",
    "\n",
    "\n",
    "## Step 1: Install Virtual Box from below link:\n",
    "Link: https://www.virtualbox.org/wiki/Downloads \n",
    "\n",
    "## Step 2: Perform the following step in terminal, if the error: \"vboxuser is not in the sudoers file. This incident will be reported! Enable sudo in Ubuntu\" is encountered.\n",
    "\n",
    "```bash\n",
    "foo@bar:$ su root\n",
    "foo@bar:$ apt-get install sudo-y\n",
    "foo@bar:$ adduser vboxuser sudo\n",
    "foo@bar:$ chmod 0440 /etc/sudoers\n",
    "foo@bar:$ su reboot\n",
    "```\n",
    "\n",
    "## Step 3: Install docker engine using Apt repository from following link: \n",
    "\n",
    "Link: [https://docs.docker.com/engine/install/ubuntu/#install-using-the-repository](https://docs.docker.com/engine/install/ubuntu/#install-using-the-repository)\n",
    "\n",
    "## Step 4: Get the files related to ML project in the ubuntu image (using drive share).\n"
   ]
  }
 ],
 "metadata": {
  "kernelspec": {
   "display_name": "Python 3 (ipykernel)",
   "language": "python",
   "name": "python3"
  },
  "language_info": {
   "codemirror_mode": {
    "name": "ipython",
    "version": 3
   },
   "file_extension": ".py",
   "mimetype": "text/x-python",
   "name": "python",
   "nbconvert_exporter": "python",
   "pygments_lexer": "ipython3",
   "version": "3.8.10"
  }
 },
 "nbformat": 4,
 "nbformat_minor": 5
}
